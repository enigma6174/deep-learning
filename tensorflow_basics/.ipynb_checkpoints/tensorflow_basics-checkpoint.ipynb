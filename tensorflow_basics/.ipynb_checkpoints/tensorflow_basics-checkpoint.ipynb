{
 "cells": [
  {
   "cell_type": "markdown",
   "id": "fd99a4a5-4f18-4dfc-9388-7143050d3282",
   "metadata": {},
   "source": [
    "# Introduction To Tensors\n",
    "\n",
    "#### [Documentation](https://www.tensorflow.org/api_docs/python/tf)"
   ]
  },
  {
   "cell_type": "code",
   "execution_count": 20,
   "id": "729f4cd3-4ca0-4839-ba7e-559d20563bc5",
   "metadata": {},
   "outputs": [],
   "source": [
    "import tensorflow as tf\n",
    "import numpy as np"
   ]
  },
  {
   "cell_type": "markdown",
   "id": "94caf8f0-e502-4bcf-a44a-40e8944a171b",
   "metadata": {},
   "source": [
    "## [1] Initializing And Casting Tensors"
   ]
  },
  {
   "cell_type": "code",
   "execution_count": 3,
   "id": "3e038f98-47dc-411c-8847-bbcd2abdd64b",
   "metadata": {},
   "outputs": [
    {
     "name": "stdout",
     "output_type": "stream",
     "text": [
      "tf.Tensor(4, shape=(), dtype=int32)\n"
     ]
    }
   ],
   "source": [
    "# Create a 0-d tensor\n",
    "tensor_zero_d = tf.constant(4)\n",
    "print(tensor_zero_d)"
   ]
  },
  {
   "cell_type": "code",
   "execution_count": 4,
   "id": "26e56a77-a83a-4381-81ff-09aeec33af54",
   "metadata": {},
   "outputs": [
    {
     "name": "stdout",
     "output_type": "stream",
     "text": [
      "tf.Tensor([ 2  0 -3  8 90], shape=(5,), dtype=int32)\n"
     ]
    }
   ],
   "source": [
    "# Create a 1-d tensor\n",
    "tensor_one_d = tf.constant([2, 0, -3, 8, 90])\n",
    "print(tensor_one_d)"
   ]
  },
  {
   "cell_type": "code",
   "execution_count": 6,
   "id": "4d72ac66-f1d1-478f-9c24-7d443d927b79",
   "metadata": {},
   "outputs": [
    {
     "name": "stdout",
     "output_type": "stream",
     "text": [
      "tf.Tensor(\n",
      "[[ 10  20  30]\n",
      " [ 40  50  60]\n",
      " [ 70  80  90]\n",
      " [100 110 120]], shape=(4, 3), dtype=int32)\n"
     ]
    }
   ],
   "source": [
    "tensor_two_d = tf.constant([\n",
    "    [10, 20, 30],\n",
    "    [40, 50, 60],\n",
    "    [70, 80, 90],\n",
    "    [100, 110, 120]\n",
    "])\n",
    "print(tensor_two_d)"
   ]
  },
  {
   "cell_type": "code",
   "execution_count": 7,
   "id": "d57f79a5-12ac-45fb-b3b4-6b0d9357c9f2",
   "metadata": {},
   "outputs": [
    {
     "name": "stdout",
     "output_type": "stream",
     "text": [
      "tf.Tensor(\n",
      "[[[ 1  2  3]\n",
      "  [ 2  4  6]]\n",
      "\n",
      " [[ 3  5  7]\n",
      "  [ 6 10 14]]\n",
      "\n",
      " [[11 13 17]\n",
      "  [22 26 34]]], shape=(3, 2, 3), dtype=int32)\n"
     ]
    }
   ],
   "source": [
    "tensor_three_d = tf.constant([\n",
    "    [[1, 2, 3],\n",
    "     [2, 4, 6]],\n",
    "    \n",
    "    [[3, 5, 7],\n",
    "     [6, 10, 14]],\n",
    "    \n",
    "    [[11, 13, 17],\n",
    "     [22, 26, 34]]\n",
    "])\n",
    "print(tensor_three_d)"
   ]
  },
  {
   "cell_type": "code",
   "execution_count": 10,
   "id": "8a80f809-bddc-43f8-ae25-0c4cbfdb49c1",
   "metadata": {},
   "outputs": [
    {
     "name": "stdout",
     "output_type": "stream",
     "text": [
      "tf.Tensor(\n",
      "[[[[1.0000e-01 2.0000e-01 3.0000e-01 4.0000e-01]\n",
      "   [1.0000e-02 2.0000e-02 3.0000e-02 4.0000e-02]]\n",
      "\n",
      "  [[5.0000e-01 2.5000e-01 1.2500e-01 6.2500e-02]\n",
      "   [4.0000e-01 1.6000e-01 6.4000e-02 2.5600e-02]]\n",
      "\n",
      "  [[1.1000e+01 1.2100e+02 1.3310e+03 1.4641e+04]\n",
      "   [1.6000e+01 3.2000e+01 6.4000e+01 2.5600e+02]]]\n",
      "\n",
      "\n",
      " [[[1.0000e-01 2.0000e-01 3.0000e-01 4.0000e-01]\n",
      "   [2.0000e-01 4.0000e-01 6.0000e-01 8.0000e-01]]\n",
      "\n",
      "  [[5.0000e-01 5.5000e-01 5.5500e-01 5.5550e-01]\n",
      "   [6.0000e-01 6.6000e-01 6.6600e-01 6.6660e-01]]\n",
      "\n",
      "  [[1.2000e-01 1.2400e-01 2.4340e-01 1.3400e-03]\n",
      "   [9.9000e+01 1.2000e+01 1.4000e+01 1.8000e+01]]]], shape=(2, 3, 2, 4), dtype=float32)\n"
     ]
    }
   ],
   "source": [
    "tensor_four_d = tf.constant([\n",
    "    [\n",
    "        [[0.1, 0.2, 0.3, 0.4],\n",
    "         [0.01, 0.02, 0.03, 0.04]],\n",
    "        \n",
    "        [[0.5, 0.25, 0.125, 0.0625],\n",
    "         [0.4, 0.16, 0.064, 0.0256]],\n",
    "        \n",
    "        [[11, 121, 1331, 14641],\n",
    "         [16, 32, 64, 256]]\n",
    "    ],\n",
    "    \n",
    "    [\n",
    "        [[0.1, 0.2, 0.3, 0.4],\n",
    "         [0.2, 0.4, 0.6, 0.8]],\n",
    "        \n",
    "        [[0.5, 0.55, 0.555, 0.5555],\n",
    "         [0.6, 0.66, 0.666, 0.6666]],\n",
    "        \n",
    "        [[0.12, 0.124, 0.2434, 0.00134],\n",
    "         [99, 12, 14, 18]]\n",
    "    ]\n",
    "])\n",
    "print(tensor_four_d)"
   ]
  },
  {
   "cell_type": "code",
   "execution_count": 11,
   "id": "9241d6ba-0315-4e03-aa04-7a3a155b1049",
   "metadata": {},
   "outputs": [
    {
     "name": "stdout",
     "output_type": "stream",
     "text": [
      "shape of tensor_four_d: (2, 3, 2, 4)\n",
      "dimensions of tensor_four_d: 4\n"
     ]
    }
   ],
   "source": [
    "# Check the dimensions and shape of tensors\n",
    "print(f\"shape of tensor_four_d: {tensor_four_d.shape}\")\n",
    "print(f\"dimensions of tensor_four_d: {tensor_four_d.ndim}\")"
   ]
  },
  {
   "cell_type": "code",
   "execution_count": 13,
   "id": "3acbbfb0-1f2d-42e7-b29a-9e3045929442",
   "metadata": {},
   "outputs": [
    {
     "name": "stdout",
     "output_type": "stream",
     "text": [
      "tf.Tensor([10. 20. 30.], shape=(3,), dtype=float32)\n"
     ]
    }
   ],
   "source": [
    "# 32-bit floating type\n",
    "temp = tf.constant([10, 20, 30], dtype=tf.float32) \n",
    "print(temp)"
   ]
  },
  {
   "cell_type": "code",
   "execution_count": 15,
   "id": "29122425-1452-4988-b579-61918a6c7892",
   "metadata": {},
   "outputs": [
    {
     "name": "stdout",
     "output_type": "stream",
     "text": [
      "tf.Tensor([10. 20. 30. 40.], shape=(4,), dtype=float64)\n"
     ]
    }
   ],
   "source": [
    "# 64-bit floating type\n",
    "temp = tf.constant([10, 20, 30, 40], dtype=tf.double)\n",
    "print(temp)"
   ]
  },
  {
   "cell_type": "code",
   "execution_count": 16,
   "id": "7af5d123-6d4a-45c7-916d-7894fb4f8ebc",
   "metadata": {},
   "outputs": [
    {
     "ename": "TypeError",
     "evalue": "Cannot convert [10.0, 11.5, 12.22, 33.45] to EagerTensor of dtype int32",
     "output_type": "error",
     "traceback": [
      "\u001b[0;31m---------------------------------------------------------------------------\u001b[0m",
      "\u001b[0;31mTypeError\u001b[0m                                 Traceback (most recent call last)",
      "Cell \u001b[0;32mIn[16], line 2\u001b[0m\n\u001b[1;32m      1\u001b[0m \u001b[38;5;66;03m# Implicit casting from floating type to integer type not possible\u001b[39;00m\n\u001b[0;32m----> 2\u001b[0m temp \u001b[38;5;241m=\u001b[39m \u001b[43mtf\u001b[49m\u001b[38;5;241;43m.\u001b[39;49m\u001b[43mconstant\u001b[49m\u001b[43m(\u001b[49m\u001b[43m[\u001b[49m\u001b[38;5;241;43m10.0\u001b[39;49m\u001b[43m,\u001b[49m\u001b[43m \u001b[49m\u001b[38;5;241;43m11.5\u001b[39;49m\u001b[43m,\u001b[49m\u001b[43m \u001b[49m\u001b[38;5;241;43m12.22\u001b[39;49m\u001b[43m,\u001b[49m\u001b[43m \u001b[49m\u001b[38;5;241;43m33.45\u001b[39;49m\u001b[43m]\u001b[49m\u001b[43m,\u001b[49m\u001b[43m \u001b[49m\u001b[43mdtype\u001b[49m\u001b[38;5;241;43m=\u001b[39;49m\u001b[43mtf\u001b[49m\u001b[38;5;241;43m.\u001b[39;49m\u001b[43mint32\u001b[49m\u001b[43m)\u001b[49m\n\u001b[1;32m      3\u001b[0m \u001b[38;5;28mprint\u001b[39m(temp)\n",
      "File \u001b[0;32m~/miniconda3/envs/tensorflow/lib/python3.10/site-packages/tensorflow/python/framework/constant_op.py:267\u001b[0m, in \u001b[0;36mconstant\u001b[0;34m(value, dtype, shape, name)\u001b[0m\n\u001b[1;32m    170\u001b[0m \u001b[38;5;129m@tf_export\u001b[39m(\u001b[38;5;124m\"\u001b[39m\u001b[38;5;124mconstant\u001b[39m\u001b[38;5;124m\"\u001b[39m, v1\u001b[38;5;241m=\u001b[39m[])\n\u001b[1;32m    171\u001b[0m \u001b[38;5;28;01mdef\u001b[39;00m \u001b[38;5;21mconstant\u001b[39m(value, dtype\u001b[38;5;241m=\u001b[39m\u001b[38;5;28;01mNone\u001b[39;00m, shape\u001b[38;5;241m=\u001b[39m\u001b[38;5;28;01mNone\u001b[39;00m, name\u001b[38;5;241m=\u001b[39m\u001b[38;5;124m\"\u001b[39m\u001b[38;5;124mConst\u001b[39m\u001b[38;5;124m\"\u001b[39m):\n\u001b[1;32m    172\u001b[0m \u001b[38;5;250m  \u001b[39m\u001b[38;5;124;03m\"\"\"Creates a constant tensor from a tensor-like object.\u001b[39;00m\n\u001b[1;32m    173\u001b[0m \n\u001b[1;32m    174\u001b[0m \u001b[38;5;124;03m  Note: All eager `tf.Tensor` values are immutable (in contrast to\u001b[39;00m\n\u001b[0;32m   (...)\u001b[0m\n\u001b[1;32m    265\u001b[0m \u001b[38;5;124;03m    ValueError: if called on a symbolic tensor.\u001b[39;00m\n\u001b[1;32m    266\u001b[0m \u001b[38;5;124;03m  \"\"\"\u001b[39;00m\n\u001b[0;32m--> 267\u001b[0m   \u001b[38;5;28;01mreturn\u001b[39;00m \u001b[43m_constant_impl\u001b[49m\u001b[43m(\u001b[49m\u001b[43mvalue\u001b[49m\u001b[43m,\u001b[49m\u001b[43m \u001b[49m\u001b[43mdtype\u001b[49m\u001b[43m,\u001b[49m\u001b[43m \u001b[49m\u001b[43mshape\u001b[49m\u001b[43m,\u001b[49m\u001b[43m \u001b[49m\u001b[43mname\u001b[49m\u001b[43m,\u001b[49m\u001b[43m \u001b[49m\u001b[43mverify_shape\u001b[49m\u001b[38;5;241;43m=\u001b[39;49m\u001b[38;5;28;43;01mFalse\u001b[39;49;00m\u001b[43m,\u001b[49m\n\u001b[1;32m    268\u001b[0m \u001b[43m                        \u001b[49m\u001b[43mallow_broadcast\u001b[49m\u001b[38;5;241;43m=\u001b[39;49m\u001b[38;5;28;43;01mTrue\u001b[39;49;00m\u001b[43m)\u001b[49m\n",
      "File \u001b[0;32m~/miniconda3/envs/tensorflow/lib/python3.10/site-packages/tensorflow/python/framework/constant_op.py:279\u001b[0m, in \u001b[0;36m_constant_impl\u001b[0;34m(value, dtype, shape, name, verify_shape, allow_broadcast)\u001b[0m\n\u001b[1;32m    277\u001b[0m     \u001b[38;5;28;01mwith\u001b[39;00m trace\u001b[38;5;241m.\u001b[39mTrace(\u001b[38;5;124m\"\u001b[39m\u001b[38;5;124mtf.constant\u001b[39m\u001b[38;5;124m\"\u001b[39m):\n\u001b[1;32m    278\u001b[0m       \u001b[38;5;28;01mreturn\u001b[39;00m _constant_eager_impl(ctx, value, dtype, shape, verify_shape)\n\u001b[0;32m--> 279\u001b[0m   \u001b[38;5;28;01mreturn\u001b[39;00m \u001b[43m_constant_eager_impl\u001b[49m\u001b[43m(\u001b[49m\u001b[43mctx\u001b[49m\u001b[43m,\u001b[49m\u001b[43m \u001b[49m\u001b[43mvalue\u001b[49m\u001b[43m,\u001b[49m\u001b[43m \u001b[49m\u001b[43mdtype\u001b[49m\u001b[43m,\u001b[49m\u001b[43m \u001b[49m\u001b[43mshape\u001b[49m\u001b[43m,\u001b[49m\u001b[43m \u001b[49m\u001b[43mverify_shape\u001b[49m\u001b[43m)\u001b[49m\n\u001b[1;32m    281\u001b[0m g \u001b[38;5;241m=\u001b[39m ops\u001b[38;5;241m.\u001b[39mget_default_graph()\n\u001b[1;32m    282\u001b[0m tensor_value \u001b[38;5;241m=\u001b[39m attr_value_pb2\u001b[38;5;241m.\u001b[39mAttrValue()\n",
      "File \u001b[0;32m~/miniconda3/envs/tensorflow/lib/python3.10/site-packages/tensorflow/python/framework/constant_op.py:304\u001b[0m, in \u001b[0;36m_constant_eager_impl\u001b[0;34m(ctx, value, dtype, shape, verify_shape)\u001b[0m\n\u001b[1;32m    302\u001b[0m \u001b[38;5;28;01mdef\u001b[39;00m \u001b[38;5;21m_constant_eager_impl\u001b[39m(ctx, value, dtype, shape, verify_shape):\n\u001b[1;32m    303\u001b[0m \u001b[38;5;250m  \u001b[39m\u001b[38;5;124;03m\"\"\"Creates a constant on the current device.\"\"\"\u001b[39;00m\n\u001b[0;32m--> 304\u001b[0m   t \u001b[38;5;241m=\u001b[39m \u001b[43mconvert_to_eager_tensor\u001b[49m\u001b[43m(\u001b[49m\u001b[43mvalue\u001b[49m\u001b[43m,\u001b[49m\u001b[43m \u001b[49m\u001b[43mctx\u001b[49m\u001b[43m,\u001b[49m\u001b[43m \u001b[49m\u001b[43mdtype\u001b[49m\u001b[43m)\u001b[49m\n\u001b[1;32m    305\u001b[0m   \u001b[38;5;28;01mif\u001b[39;00m shape \u001b[38;5;129;01mis\u001b[39;00m \u001b[38;5;28;01mNone\u001b[39;00m:\n\u001b[1;32m    306\u001b[0m     \u001b[38;5;28;01mreturn\u001b[39;00m t\n",
      "File \u001b[0;32m~/miniconda3/envs/tensorflow/lib/python3.10/site-packages/tensorflow/python/framework/constant_op.py:102\u001b[0m, in \u001b[0;36mconvert_to_eager_tensor\u001b[0;34m(value, ctx, dtype)\u001b[0m\n\u001b[1;32m    100\u001b[0m     dtype \u001b[38;5;241m=\u001b[39m dtypes\u001b[38;5;241m.\u001b[39mas_dtype(dtype)\u001b[38;5;241m.\u001b[39mas_datatype_enum\n\u001b[1;32m    101\u001b[0m ctx\u001b[38;5;241m.\u001b[39mensure_initialized()\n\u001b[0;32m--> 102\u001b[0m \u001b[38;5;28;01mreturn\u001b[39;00m \u001b[43mops\u001b[49m\u001b[38;5;241;43m.\u001b[39;49m\u001b[43mEagerTensor\u001b[49m\u001b[43m(\u001b[49m\u001b[43mvalue\u001b[49m\u001b[43m,\u001b[49m\u001b[43m \u001b[49m\u001b[43mctx\u001b[49m\u001b[38;5;241;43m.\u001b[39;49m\u001b[43mdevice_name\u001b[49m\u001b[43m,\u001b[49m\u001b[43m \u001b[49m\u001b[43mdtype\u001b[49m\u001b[43m)\u001b[49m\n",
      "\u001b[0;31mTypeError\u001b[0m: Cannot convert [10.0, 11.5, 12.22, 33.45] to EagerTensor of dtype int32"
     ]
    }
   ],
   "source": [
    "# Implicit conversion from floating type to integer type not possible\n",
    "temp = tf.constant([10.0, 11.5, 12.22, 33.45], dtype=tf.int32)\n",
    "print(temp)"
   ]
  },
  {
   "cell_type": "code",
   "execution_count": 18,
   "id": "af5f27cb-e6c9-42e0-b680-9d888e3a1f52",
   "metadata": {},
   "outputs": [
    {
     "name": "stdout",
     "output_type": "stream",
     "text": [
      "tf.Tensor([ 10  20  30 100], shape=(4,), dtype=int32)\n"
     ]
    }
   ],
   "source": [
    "# Casting is required to convert data types\n",
    "temp = tf.cast([10.0, 20.5, 30.95, 100.101], dtype=tf.int32)\n",
    "print(temp)"
   ]
  },
  {
   "cell_type": "code",
   "execution_count": 19,
   "id": "1882f2f6-7a46-4c5b-933c-12e03b5148d4",
   "metadata": {},
   "outputs": [
    {
     "name": "stdout",
     "output_type": "stream",
     "text": [
      "tf.Tensor([ True  True False False  True], shape=(5,), dtype=bool)\n"
     ]
    }
   ],
   "source": [
    "# Casting to boolean type\n",
    "temp = tf.cast([10, 20, 0, 0.0, 0.01], dtype=tf.bool)\n",
    "print(temp)"
   ]
  },
  {
   "cell_type": "code",
   "execution_count": 21,
   "id": "4d4f5453-9911-4368-9365-b747991c9ed0",
   "metadata": {},
   "outputs": [
    {
     "name": "stdout",
     "output_type": "stream",
     "text": [
      "[[10.  20.  30.  40. ]\n",
      " [ 0.1  0.2  0.3  0.4]]\n"
     ]
    }
   ],
   "source": [
    "# Create numpy array\n",
    "np_array = np.array([\n",
    "    [10, 20, 30, 40],\n",
    "    [0.1, 0.2, 0.3, 0.4]\n",
    "])\n",
    "print(np_array)"
   ]
  },
  {
   "cell_type": "code",
   "execution_count": 22,
   "id": "1ff0b411-bc61-41f1-ac0d-d6efd9b9e469",
   "metadata": {},
   "outputs": [
    {
     "name": "stdout",
     "output_type": "stream",
     "text": [
      "tf.Tensor(\n",
      "[[10.  20.  30.  40. ]\n",
      " [ 0.1  0.2  0.3  0.4]], shape=(2, 4), dtype=float64)\n"
     ]
    }
   ],
   "source": [
    "# Convert numpy array to tensor\n",
    "converted_tensor = tf.convert_to_tensor(np_array)\n",
    "print(converted_tensor)"
   ]
  },
  {
   "cell_type": "code",
   "execution_count": 23,
   "id": "5c73a33b-ca7d-4827-9b87-034a8fa5df84",
   "metadata": {},
   "outputs": [
    {
     "name": "stdout",
     "output_type": "stream",
     "text": [
      "tf.Tensor(\n",
      "[[10.  20.  30.  40. ]\n",
      " [ 0.1  0.2  0.3  0.4]], shape=(2, 4), dtype=float32)\n"
     ]
    }
   ],
   "source": [
    "# Convert to tensor of dtype float32\n",
    "converted_tensor = tf.convert_to_tensor(np_array, dtype=tf.float32)\n",
    "print(converted_tensor)"
   ]
  },
  {
   "cell_type": "code",
   "execution_count": 25,
   "id": "eea0703a-5cd5-4794-b93d-70574f2562f1",
   "metadata": {},
   "outputs": [
    {
     "name": "stdout",
     "output_type": "stream",
     "text": [
      "tf.Tensor(\n",
      "[[1. 0. 0.]\n",
      " [0. 1. 0.]\n",
      " [0. 0. 1.]], shape=(3, 3), dtype=float32)\n",
      "\n",
      "tf.Tensor(\n",
      "[[1 0 0]\n",
      " [0 1 0]\n",
      " [0 0 1]], shape=(3, 3), dtype=int32)\n",
      "\n",
      "tf.Tensor(\n",
      "[[ True False False False]\n",
      " [False  True False False]\n",
      " [False False  True False]\n",
      " [False False False  True]], shape=(4, 4), dtype=bool)\n"
     ]
    }
   ],
   "source": [
    "# Create identity matrix of shape 3x3\n",
    "eye_tensor = tf.eye(num_rows=3)\n",
    "print(eye_tensor)\n",
    "print()\n",
    "\n",
    "# Create identity matrix of shape 3x3 and dtype int32\n",
    "eye_tensor = tf.eye(num_rows=3, dtype=tf.int32)\n",
    "print(eye_tensor)\n",
    "print()\n",
    "\n",
    "# Create identity matrix of shape 4x4 and dtype bool\n",
    "eye_tensor = tf.eye(num_rows=4, dtype=tf.bool)\n",
    "print(eye_tensor)"
   ]
  },
  {
   "cell_type": "code",
   "execution_count": 26,
   "id": "b44c5efa-49b9-4c32-ac7e-4173a4c9f690",
   "metadata": {},
   "outputs": [
    {
     "name": "stdout",
     "output_type": "stream",
     "text": [
      "tf.Tensor(\n",
      "[[1 0 0]\n",
      " [0 1 0]\n",
      " [0 0 1]\n",
      " [0 0 0]\n",
      " [0 0 0]], shape=(5, 3), dtype=int32)\n"
     ]
    }
   ],
   "source": [
    "# Create identity matrix of shape 5x3 and type int32\n",
    "eye_tensor = tf.eye(num_rows=5, num_columns=3, dtype=tf.int32)\n",
    "print(eye_tensor)"
   ]
  },
  {
   "cell_type": "code",
   "execution_count": 29,
   "id": "a58bfe90-4abe-4369-8864-35d1add3867d",
   "metadata": {},
   "outputs": [
    {
     "name": "stdout",
     "output_type": "stream",
     "text": [
      "tf.Tensor(\n",
      "[[[1 0 0]\n",
      "  [0 1 0]\n",
      "  [0 0 1]]\n",
      "\n",
      " [[1 0 0]\n",
      "  [0 1 0]\n",
      "  [0 0 1]]], shape=(2, 3, 3), dtype=int32)\n"
     ]
    }
   ],
   "source": [
    "# Create two 3x3 identity matrix of type int32\n",
    "eye_tensor = tf.eye(num_rows=3, batch_shape=[2,], dtype=tf.int32)\n",
    "print(eye_tensor)"
   ]
  },
  {
   "cell_type": "code",
   "execution_count": 30,
   "id": "18c85fbb-6647-49e8-882e-62f95a93dc82",
   "metadata": {},
   "outputs": [
    {
     "name": "stdout",
     "output_type": "stream",
     "text": [
      "tf.Tensor(\n",
      "[[11 11 11 11]\n",
      " [11 11 11 11]], shape=(2, 4), dtype=int32)\n"
     ]
    }
   ],
   "source": [
    "# Create a tensor of shape 2x4 with all values initialized to 11\n",
    "filled_tensor = tf.fill([2, 4], 11)\n",
    "print(filled_tensor)"
   ]
  },
  {
   "cell_type": "code",
   "execution_count": 31,
   "id": "1ef63421-312c-4d9d-8c03-3bc022df560f",
   "metadata": {},
   "outputs": [
    {
     "name": "stdout",
     "output_type": "stream",
     "text": [
      "tf.Tensor(\n",
      "[[[15 15 15 15]\n",
      "  [15 15 15 15]]\n",
      "\n",
      " [[15 15 15 15]\n",
      "  [15 15 15 15]]\n",
      "\n",
      " [[15 15 15 15]\n",
      "  [15 15 15 15]]], shape=(3, 2, 4), dtype=int32)\n"
     ]
    }
   ],
   "source": [
    "# Create a tensor of shape 3x2x4 with all values initialized to 15\n",
    "filled_tensor = tf.fill([3,2,4], 15)\n",
    "print(filled_tensor)"
   ]
  },
  {
   "cell_type": "code",
   "execution_count": 32,
   "id": "30d672f0-df70-44e1-b117-3faea7b45364",
   "metadata": {},
   "outputs": [
    {
     "name": "stdout",
     "output_type": "stream",
     "text": [
      "tf.Tensor(\n",
      "[[1. 1.]\n",
      " [1. 1.]\n",
      " [1. 1.]], shape=(3, 2), dtype=float32)\n"
     ]
    }
   ],
   "source": [
    "# Create a tensor of shape 3x2 with all values initialized to 1\n",
    "ones_tensor = tf.ones([3, 2])\n",
    "print(ones_tensor)"
   ]
  },
  {
   "cell_type": "code",
   "execution_count": 33,
   "id": "d55a98e4-c436-4146-9e34-207ffc92dc69",
   "metadata": {},
   "outputs": [
    {
     "name": "stdout",
     "output_type": "stream",
     "text": [
      "tf.Tensor(\n",
      "[[[1 1 1]\n",
      "  [1 1 1]]\n",
      "\n",
      " [[1 1 1]\n",
      "  [1 1 1]]\n",
      "\n",
      " [[1 1 1]\n",
      "  [1 1 1]]], shape=(3, 2, 3), dtype=int32)\n"
     ]
    }
   ],
   "source": [
    "# Create a tensor of shape 3x2x3 with all values initialized to 1 (int)\n",
    "ones_tensor = tf.ones([3, 2, 3], dtype=tf.int32)\n",
    "print(ones_tensor)"
   ]
  },
  {
   "cell_type": "code",
   "execution_count": 36,
   "id": "d64b6580-0faf-45a6-879c-d0332a85216c",
   "metadata": {},
   "outputs": [
    {
     "name": "stdout",
     "output_type": "stream",
     "text": [
      "tf.Tensor(\n",
      "[[[1.e+01 2.e+01 3.e+01]\n",
      "  [1.e+02 2.e+02 3.e+02]]\n",
      "\n",
      " [[1.e-01 3.e-01 5.e-01]\n",
      "  [1.e-02 3.e-02 5.e-02]]], shape=(2, 2, 3), dtype=float32)\n",
      "\n",
      "tf.Tensor(\n",
      "[[[1. 1. 1.]\n",
      "  [1. 1. 1.]]\n",
      "\n",
      " [[1. 1. 1.]\n",
      "  [1. 1. 1.]]], shape=(2, 2, 3), dtype=float32)\n"
     ]
    }
   ],
   "source": [
    "temp = tf.constant([\n",
    "    [[10., 20., 30.],\n",
    "     [100., 200., 300.]],\n",
    "    \n",
    "    [[0.1, 0.3, 0.5],\n",
    "     [0.01, 0.03, 0.05]]\n",
    "])\n",
    "print(temp)\n",
    "print()\n",
    "\n",
    "# Create a tensor of ones with same shape as temp \n",
    "ones_tensor = tf.ones_like(temp)\n",
    "print(ones_tensor)"
   ]
  },
  {
   "cell_type": "code",
   "execution_count": 37,
   "id": "b044180c-2fd4-49da-8a3b-a101676f1035",
   "metadata": {},
   "outputs": [
    {
     "name": "stdout",
     "output_type": "stream",
     "text": [
      "shape of temp: (2, 2, 3)\n",
      "dimensions of temp: 3\n",
      "\n",
      "shape of ones_tensor: (2, 2, 3)\n",
      "dimensions of ones_tensor: 3\n"
     ]
    }
   ],
   "source": [
    "print(f\"shape of temp: {temp.shape}\")\n",
    "print(f\"dimensions of temp: {temp.ndim}\\n\")\n",
    "\n",
    "print(f\"shape of ones_tensor: {ones_tensor.shape}\")\n",
    "print(f\"dimensions of ones_tensor: {ones_tensor.ndim}\")"
   ]
  },
  {
   "cell_type": "code",
   "execution_count": 40,
   "id": "db719475-844c-479c-bc30-a9fb48d93381",
   "metadata": {},
   "outputs": [
    {
     "name": "stdout",
     "output_type": "stream",
     "text": [
      "tf.Tensor(\n",
      "[[0 0 0 0]\n",
      " [0 0 0 0]], shape=(2, 4), dtype=int32)\n",
      "\n",
      "tf.Tensor(\n",
      "[[[0. 0. 0. 0.]\n",
      "  [0. 0. 0. 0.]]\n",
      "\n",
      " [[0. 0. 0. 0.]\n",
      "  [0. 0. 0. 0.]]\n",
      "\n",
      " [[0. 0. 0. 0.]\n",
      "  [0. 0. 0. 0.]]], shape=(3, 2, 4), dtype=float32)\n"
     ]
    }
   ],
   "source": [
    "# Create a tensor of zeros of shape 2x4 of type int32\n",
    "zeros_tensor = tf.zeros([2, 4], dtype=tf.int32)\n",
    "print(zeros_tensor)\n",
    "print()\n",
    "\n",
    "# Create a tensor of zeros of shape 3x2x3\n",
    "zeros_tensor = tf.zeros([3, 2, 4])\n",
    "print(zeros_tensor)"
   ]
  },
  {
   "cell_type": "code",
   "execution_count": 45,
   "id": "d63ecd31-2f0c-4b78-a1bf-88543022a02a",
   "metadata": {},
   "outputs": [
    {
     "name": "stdout",
     "output_type": "stream",
     "text": [
      "tf.Tensor([3 2 4], shape=(3,), dtype=int32)\n",
      "tf.Tensor(3, shape=(), dtype=int32)\n",
      "tf.Tensor(24, shape=(), dtype=int32)\n"
     ]
    }
   ],
   "source": [
    "# Return the shape of tensor\n",
    "_shape = tf.shape(zeros_tensor)\n",
    "print(_shape)\n",
    "\n",
    "# Return the rank of tensor\n",
    "_rank = tf.rank(zeros_tensor)\n",
    "print(_rank)\n",
    "\n",
    "# Return the size of the tensor\n",
    "_size = tf.size(zeros_tensor)\n",
    "print(_size)"
   ]
  },
  {
   "cell_type": "markdown",
   "id": "446d5215-1ff4-497a-a8d8-6cb90a4e683f",
   "metadata": {},
   "source": [
    "### Generating Random Values\n",
    "\n",
    "To initialize tensors with random values use the **tf.random** module. We can use `tf.random.normal()` to generate random values from a normal distribution and `tf.random.uniform()` to generate random values from a uniform distribution.\n",
    "\n",
    "#### Links\n",
    "- [tf.random.normal](https://www.tensorflow.org/api_docs/python/tf/random/uniform)\n",
    "- [tf.random.uniform](https://www.tensorflow.org/api_docs/python/tf/random/normal)\n",
    "- [Probability Playground - Normal Distrubution](https://www.acsu.buffalo.edu/~adamcunn/probability/normal.html)\n",
    "- [Probability Playground - Uniform Distribution](https://www.acsu.buffalo.edu/~adamcunn/probability/uniform.html)"
   ]
  },
  {
   "cell_type": "code",
   "execution_count": 53,
   "id": "f61279be-8a3a-4544-adbf-cf082e2a4d99",
   "metadata": {},
   "outputs": [
    {
     "name": "stdout",
     "output_type": "stream",
     "text": [
      "tf.Tensor(\n",
      "[[-1.6862277  -0.6071758   1.3820523   2.1102962 ]\n",
      " [ 1.2970673   0.27782887  1.7888864  -0.44372082]], shape=(2, 4), dtype=float32)\n"
     ]
    }
   ],
   "source": [
    "# Create a tensor of shape 2x4 initialized with random values\n",
    "random_tensor = tf.random.normal([2, 4], seed=42)\n",
    "print(random_tensor)"
   ]
  },
  {
   "cell_type": "code",
   "execution_count": 51,
   "id": "7b55ad0c-3d45-44c8-b15c-c32dc0f6aa6f",
   "metadata": {},
   "outputs": [
    {
     "name": "stdout",
     "output_type": "stream",
     "text": [
      "tf.Tensor(\n",
      "[[ 96.97908   96.38633 ]\n",
      " [ 99.97679  102.42871 ]\n",
      " [ 99.608795 101.240555]], shape=(3, 2), dtype=float32)\n"
     ]
    }
   ],
   "source": [
    "# Create a tensor of shape 3x2 initialized with random values with mean 100 and stddev 2\n",
    "random_tensor = tf.random.normal([3, 2], mean=100.0, stddev=2.0, seed=42)\n",
    "print(random_tensor)"
   ]
  },
  {
   "cell_type": "code",
   "execution_count": 54,
   "id": "41730076-5522-4db0-b5a9-03e7fe3eca93",
   "metadata": {},
   "outputs": [
    {
     "name": "stdout",
     "output_type": "stream",
     "text": [
      "tf.Tensor(\n",
      "[[0.95227146 0.67740774 0.79531825 0.75578177]\n",
      " [0.4759556  0.6310148  0.18602037 0.11430776]], shape=(2, 4), dtype=float32)\n"
     ]
    }
   ],
   "source": [
    "# Create a tensor of shape 2x4 initialized with random values - uniforml distribution\n",
    "random_tensor = tf.random.uniform([2, 4], seed=42)\n",
    "print(random_tensor)"
   ]
  },
  {
   "cell_type": "code",
   "execution_count": 55,
   "id": "a32f6ca4-343e-422d-876d-f8a053acf3a0",
   "metadata": {},
   "outputs": [
    {
     "name": "stdout",
     "output_type": "stream",
     "text": [
      "tf.Tensor(\n",
      "[[13.117929 18.263412]\n",
      " [16.849457 10.067091]\n",
      " [17.87495  13.906511]], shape=(3, 2), dtype=float32)\n"
     ]
    }
   ],
   "source": [
    "# Create a tensor of shape 3x2 initialized with random values in the range (10, 20) - uniform distribution\n",
    "random_tensor = tf.random.uniform([3, 2], minval=10, maxval=20, seed=42)\n",
    "print(random_tensor)"
   ]
  },
  {
   "cell_type": "markdown",
   "id": "77af925d-3dd2-4b58-b174-2d913e9dee35",
   "metadata": {},
   "source": [
    "## [2] Indexing"
   ]
  },
  {
   "cell_type": "code",
   "execution_count": 56,
   "id": "3d3940af-e718-4191-bd75-1afc75f1360a",
   "metadata": {},
   "outputs": [
    {
     "name": "stdout",
     "output_type": "stream",
     "text": [
      "tf.Tensor(10, shape=(), dtype=int32)\n",
      "tf.Tensor(80, shape=(), dtype=int32)\n",
      "tf.Tensor([10 20 30 40], shape=(4,), dtype=int32)\n",
      "tf.Tensor([30 40 50 60], shape=(4,), dtype=int32)\n"
     ]
    }
   ],
   "source": [
    "tensor = tf.constant([10, 20, 30, 40, 50, 60, 70, 80])\n",
    "\n",
    "# Indexing the first value\n",
    "print(tensor[0])\n",
    "\n",
    "# Indexing the last value\n",
    "print(tensor[-1])\n",
    "\n",
    "# Indexing a range of values\n",
    "print(tensor[0:4])\n",
    "print(tensor[2:6])"
   ]
  },
  {
   "cell_type": "markdown",
   "id": "0fbd3072-dca3-40d3-8443-ade43ce841aa",
   "metadata": {},
   "source": [
    "### tf.range\n",
    "The `tf.range()` method will generate a sequence of numbers based on the **start** and **limit** values. By default increments in steps of 1 but this can be changed using the **limit** parameter. This function is similar to `np.arrange()` method.  \n",
    "\n",
    "#### Links\n",
    "- [tf.range](https://www.tensorflow.org/api_docs/python/tf/range)"
   ]
  },
  {
   "cell_type": "code",
   "execution_count": 65,
   "id": "606cf3a7-0722-467e-a680-b0f74e706daa",
   "metadata": {},
   "outputs": [
    {
     "name": "stdout",
     "output_type": "stream",
     "text": [
      "tf.Tensor([0 1 2 3], shape=(4,), dtype=int32)\n",
      "tf.Tensor([ 2  5  8 11], shape=(4,), dtype=int32)\n",
      "tf.Tensor([0 4 8], shape=(3,), dtype=int32)\n"
     ]
    }
   ],
   "source": [
    "# Use tf.range() to slice values\n",
    "print(tf.range(0, 4))\n",
    "print(tf.range(2, 12, 3))\n",
    "print(tf.range(0, limit=12, delta=4))"
   ]
  },
  {
   "cell_type": "markdown",
   "id": "025ef394-f2d0-4ffc-9f2a-d93152b044bf",
   "metadata": {},
   "source": [
    "### Indexing Into Multi Dimensional Tensors"
   ]
  },
  {
   "cell_type": "code",
   "execution_count": 68,
   "id": "9df6ddfe-815b-44bf-83ef-da87a0e86029",
   "metadata": {},
   "outputs": [
    {
     "name": "stdout",
     "output_type": "stream",
     "text": [
      "tf.Tensor(\n",
      "[[ 10  20  30  40]\n",
      " [100 200 300 400]\n",
      " [101 201 301 401]], shape=(3, 4), dtype=int32)\n"
     ]
    }
   ],
   "source": [
    "tensor = tf.constant([\n",
    "    [10, 20, 30, 40],\n",
    "    [100, 200, 300, 400],\n",
    "    [101, 201, 301, 401]\n",
    "])\n",
    "print(tensor)"
   ]
  },
  {
   "cell_type": "code",
   "execution_count": 69,
   "id": "ca357f75-1e19-4ae2-a9ac-04397225f1e1",
   "metadata": {},
   "outputs": [
    {
     "name": "stdout",
     "output_type": "stream",
     "text": [
      "tf.Tensor([10 20 30 40], shape=(4,), dtype=int32)\n"
     ]
    }
   ],
   "source": [
    "# Index into the first row\n",
    "print(tensor[0])"
   ]
  },
  {
   "cell_type": "code",
   "execution_count": 70,
   "id": "e08bddae-fca3-46e9-841a-3bdbfb6615ce",
   "metadata": {},
   "outputs": [
    {
     "name": "stdout",
     "output_type": "stream",
     "text": [
      "tf.Tensor([101 201 301 401], shape=(4,), dtype=int32)\n"
     ]
    }
   ],
   "source": [
    "# Index into the last row\n",
    "print(tensor[-1])"
   ]
  },
  {
   "cell_type": "code",
   "execution_count": 72,
   "id": "d1cf4c10-7771-4fe4-b2ed-65c708eddb5f",
   "metadata": {},
   "outputs": [
    {
     "name": "stdout",
     "output_type": "stream",
     "text": [
      "tf.Tensor([ 10 100 101], shape=(3,), dtype=int32)\n"
     ]
    }
   ],
   "source": [
    "# Index into the first column\n",
    "print(tensor[:, 0])"
   ]
  },
  {
   "cell_type": "code",
   "execution_count": 73,
   "id": "f26e74df-c0a5-4d3e-aaa9-d493faa6a951",
   "metadata": {},
   "outputs": [
    {
     "name": "stdout",
     "output_type": "stream",
     "text": [
      "tf.Tensor([ 20 200 201], shape=(3,), dtype=int32)\n"
     ]
    }
   ],
   "source": [
    "# Index into the second column\n",
    "print(tensor[:, 1])"
   ]
  },
  {
   "cell_type": "code",
   "execution_count": 74,
   "id": "11762f4f-73a6-4f2f-9785-c7550a369ff5",
   "metadata": {},
   "outputs": [
    {
     "name": "stdout",
     "output_type": "stream",
     "text": [
      "tf.Tensor([ 40 400 401], shape=(3,), dtype=int32)\n"
     ]
    }
   ],
   "source": [
    "# Index into the last column\n",
    "print(tensor[:, -1])"
   ]
  },
  {
   "cell_type": "code",
   "execution_count": 75,
   "id": "cfaa10d0-e0b7-4eda-8da9-9917a4ff1def",
   "metadata": {},
   "outputs": [
    {
     "name": "stdout",
     "output_type": "stream",
     "text": [
      "tf.Tensor(\n",
      "[[200 300]\n",
      " [201 301]], shape=(2, 2), dtype=int32)\n"
     ]
    }
   ],
   "source": [
    "# Index and extract the values [200, 300] and [201, 301]\n",
    "print(tensor[1:, 1:3])"
   ]
  },
  {
   "cell_type": "code",
   "execution_count": 76,
   "id": "722d3548-a207-4a59-9cee-51262b6acc55",
   "metadata": {},
   "outputs": [
    {
     "name": "stdout",
     "output_type": "stream",
     "text": [
      "tf.Tensor([301 401], shape=(2,), dtype=int32)\n"
     ]
    }
   ],
   "source": [
    "# Index and extract the values 301, 401\n",
    "print(tensor[2, 2:])"
   ]
  },
  {
   "cell_type": "code",
   "execution_count": 79,
   "id": "265e95e8-a852-4516-a243-02255f1fbb49",
   "metadata": {},
   "outputs": [
    {
     "name": "stdout",
     "output_type": "stream",
     "text": [
      "tf.Tensor(\n",
      "[[[[  10   20   30   40]\n",
      "   [  11   22   33   44]\n",
      "   [  14   28   42   56]]\n",
      "\n",
      "  [[  50   60   70   80]\n",
      "   [  25   36   49   64]\n",
      "   [ 125  216  256  341]]]\n",
      "\n",
      "\n",
      " [[[  11   21   31   41]\n",
      "   [ 121 1331  625  729]\n",
      "   [  13   17   19   23]]\n",
      "\n",
      "  [[  50   60   70   80]\n",
      "   [  51   61  671  101]\n",
      "   [ 520  620  340  800]]]], shape=(2, 2, 3, 4), dtype=int32)\n"
     ]
    }
   ],
   "source": [
    "tensor = tf.constant([\n",
    "    [\n",
    "        [[10, 20, 30, 40],\n",
    "         [11, 22, 33, 44],\n",
    "         [14, 28, 42, 56]],\n",
    "    \n",
    "        [[50, 60, 70, 80],\n",
    "         [25, 36, 49, 64],\n",
    "         [125, 216, 256, 341]]\n",
    "    ],\n",
    "    [\n",
    "        [[11, 21, 31, 41],\n",
    "         [121, 1331, 625, 729],\n",
    "         [13, 17, 19, 23]],\n",
    "    \n",
    "        [[50, 60, 70, 80],\n",
    "         [51, 61, 671, 101],\n",
    "         [520, 620, 340, 800]]\n",
    "    ]\n",
    "])\n",
    "print(tensor)"
   ]
  },
  {
   "cell_type": "code",
   "execution_count": 80,
   "id": "e778e5df-b070-44f4-b270-c2a903ad9574",
   "metadata": {},
   "outputs": [
    {
     "name": "stdout",
     "output_type": "stream",
     "text": [
      "tf.Tensor(\n",
      "[[[  20   22   28]\n",
      "  [  60   36  216]]\n",
      "\n",
      " [[  21 1331   17]\n",
      "  [  60   61  620]]], shape=(2, 2, 3), dtype=int32)\n"
     ]
    }
   ],
   "source": [
    "# Index into the second column of every matrix\n",
    "print(tensor[:, :, :, 1])"
   ]
  },
  {
   "cell_type": "code",
   "execution_count": 81,
   "id": "d80fdb64-8c21-4923-bc5d-d44af534a630",
   "metadata": {},
   "outputs": [
    {
     "name": "stdout",
     "output_type": "stream",
     "text": [
      "tf.Tensor(\n",
      "[[[10 20 30 40]\n",
      "  [50 60 70 80]]\n",
      "\n",
      " [[11 21 31 41]\n",
      "  [50 60 70 80]]], shape=(2, 2, 4), dtype=int32)\n"
     ]
    }
   ],
   "source": [
    "# Index into the first row of every matrix\n",
    "print(tensor[:, :, 0, :])"
   ]
  },
  {
   "cell_type": "code",
   "execution_count": 82,
   "id": "00612e34-fcae-4f87-ad26-95b4b909e83e",
   "metadata": {},
   "outputs": [
    {
     "name": "stdout",
     "output_type": "stream",
     "text": [
      "tf.Tensor(\n",
      "[[ 61 671 101]\n",
      " [620 340 800]], shape=(2, 3), dtype=int32)\n"
     ]
    }
   ],
   "source": [
    "# Extract the values [61 71 101] and [620 340 800]\n",
    "print(tensor[1, 1, 1:, 1:])"
   ]
  },
  {
   "cell_type": "markdown",
   "id": "1edcbb01-e2f0-45c1-b40c-350e19d4f490",
   "metadata": {},
   "source": [
    "## [3] Math Operations In Tensorflow\n",
    "\n",
    "All math operations in tensorflow are done with the `tf.math` module"
   ]
  },
  {
   "cell_type": "code",
   "execution_count": 83,
   "id": "68c51159-ab9b-4ded-b635-6d163eb80448",
   "metadata": {},
   "outputs": [
    {
     "name": "stdout",
     "output_type": "stream",
     "text": [
      "tf.Tensor(\n",
      "[[-3.7641406  6.526825 ]\n",
      " [ 3.6989117 -9.865818 ]\n",
      " [ 5.7499027 -2.1869779]], shape=(3, 2), dtype=float32)\n"
     ]
    }
   ],
   "source": [
    "x = tf.random.uniform([3, 2], minval=-10, maxval=10, seed=42)\n",
    "print(x)"
   ]
  },
  {
   "cell_type": "code",
   "execution_count": 84,
   "id": "0f89def8-3d0c-45f9-b455-2118131900b0",
   "metadata": {},
   "outputs": [
    {
     "name": "stdout",
     "output_type": "stream",
     "text": [
      "tf.Tensor(\n",
      "[[3.7641406 6.526825 ]\n",
      " [3.6989117 9.865818 ]\n",
      " [5.7499027 2.1869779]], shape=(3, 2), dtype=float32)\n"
     ]
    }
   ],
   "source": [
    "# Get the absolute value of tensor\n",
    "x_abs = tf.math.abs(x)\n",
    "print(x_abs)"
   ]
  },
  {
   "cell_type": "code",
   "execution_count": 94,
   "id": "1b0e7d0f-6d06-4956-a8e8-bae3c3f8abed",
   "metadata": {},
   "outputs": [
    {
     "name": "stdout",
     "output_type": "stream",
     "text": [
      "tf.Tensor(\n",
      "[[ 5.       25.      ]\n",
      " [ 7.       18.466185]\n",
      " [11.        8.      ]], shape=(3, 2), dtype=float32)\n"
     ]
    }
   ],
   "source": [
    "x = tf.constant([\n",
    "    [25, 625],\n",
    "    [49, 341],\n",
    "    [121, 64]\n",
    "], dtype=tf.float32)\n",
    "\n",
    "# Calculate the square root\n",
    "x_sqrt = tf.math.sqrt(x)\n",
    "print(x_sqrt)"
   ]
  },
  {
   "cell_type": "code",
   "execution_count": 91,
   "id": "5e40f441-1bd2-44ad-9743-ddf5c897551f",
   "metadata": {},
   "outputs": [
    {
     "name": "stdout",
     "output_type": "stream",
     "text": [
      "tf.Tensor(\n",
      "[[[31.179296  82.634125  68.49456  ]\n",
      "  [ 0.6709099 78.74951   39.06511  ]]\n",
      "\n",
      " [[29.263056  99.21693   95.810425 ]\n",
      "  [55.623318  16.466295  13.445711 ]]\n",
      "\n",
      " [[13.229858  53.480984  57.090176 ]\n",
      "  [50.970505  48.252342  15.580535 ]]], shape=(3, 2, 3), dtype=float32)\n"
     ]
    }
   ],
   "source": [
    "x = tf.random.uniform([3, 2, 3], minval=0, maxval=100, seed=42)\n",
    "print(x)"
   ]
  },
  {
   "cell_type": "code",
   "execution_count": 93,
   "id": "8101c3f9-daf6-4479-82c6-2bb1ad024eb3",
   "metadata": {},
   "outputs": [
    {
     "name": "stdout",
     "output_type": "stream",
     "text": [
      "tf.Tensor(\n",
      "[[[5.5838423 9.090331  8.276144 ]\n",
      "  [0.8190909 8.874092  6.250209 ]]\n",
      "\n",
      " [[5.409534  9.96077   9.78828  ]\n",
      "  [7.458104  4.0578685 3.6668394]]\n",
      "\n",
      " [[3.6372871 7.3130693 7.5558043]\n",
      "  [7.139363  6.9463906 3.9472187]]], shape=(3, 2, 3), dtype=float32)\n"
     ]
    }
   ],
   "source": [
    "x_sqrt = tf.math.sqrt(x)\n",
    "print(x_sqrt)"
   ]
  },
  {
   "cell_type": "code",
   "execution_count": 96,
   "id": "b672367d-e68b-4650-9bf8-d12086bc6999",
   "metadata": {},
   "outputs": [
    {
     "name": "stdout",
     "output_type": "stream",
     "text": [
      "tf.Tensor([110 220 330 440 550], shape=(5,), dtype=int32)\n",
      "tf.Tensor([ -90 -180 -270 -360 -450], shape=(5,), dtype=int32)\n",
      "tf.Tensor([ 1000  4000  9000 16000 25000], shape=(5,), dtype=int32)\n",
      "tf.Tensor([10. 10. 10. 10. 10.], shape=(5,), dtype=float64)\n"
     ]
    }
   ],
   "source": [
    "x1 = tf.constant([10, 20, 30, 40, 50])\n",
    "x2 = tf.constant([100, 200, 300, 400, 500])\n",
    "\n",
    "# Element-wise addition of two tensors\n",
    "x_add = tf.math.add(x1, x2)\n",
    "print(x_add)\n",
    "\n",
    "# Element-wise subtraction of two tensors\n",
    "x_subtract = tf.math.subtract(x1, x2)\n",
    "print(x_subtract)\n",
    "\n",
    "# Element-wise multiplication of two tensors\n",
    "x_multiply = tf.math.multiply(x1, x2)\n",
    "print(x_multiply)\n",
    "\n",
    "# Element-wise division of two tensors\n",
    "x_divide = tf.math.divide(x2, x1)\n",
    "print(x_divide)"
   ]
  },
  {
   "cell_type": "code",
   "execution_count": 103,
   "id": "4a724351-7838-4653-907f-52a662043f47",
   "metadata": {},
   "outputs": [
    {
     "name": "stdout",
     "output_type": "stream",
     "text": [
      "tf.Tensor(\n",
      "[[[-3.7641406  6.526825 ]\n",
      "  [ 3.6989117 -9.865818 ]\n",
      "  [ 5.7499027 -2.1869779]]\n",
      "\n",
      " [[-4.147389   9.843386 ]\n",
      "  [ 9.162085   1.1246634]\n",
      "  [-6.706741  -7.310858 ]]], shape=(2, 3, 2), dtype=float32)\n",
      "tf.Tensor(\n",
      "[[[ -7.528281   13.05365  ]\n",
      "  [  7.3978233 -19.731636 ]\n",
      "  [ 11.499805   -4.3739557]]\n",
      "\n",
      " [[ -8.294778   19.686771 ]\n",
      "  [ 18.32417     2.2493267]\n",
      "  [-13.413482  -14.621716 ]]], shape=(2, 3, 2), dtype=float32)\n",
      "tf.Tensor(\n",
      "[[[-11.292421  19.580475]\n",
      "  [ 11.096733 -29.597454]\n",
      "  [ 17.24971   -6.560934]]\n",
      "\n",
      " [[-12.442167  29.530155]\n",
      "  [ 27.486256   3.373989]\n",
      "  [-20.120222 -21.932573]]], shape=(2, 3, 2), dtype=float32)\n"
     ]
    }
   ],
   "source": [
    "x1 = tf.random.uniform([2, 3, 2], minval=-10, maxval=10, seed=42)\n",
    "x2 = tf.random.uniform([2, 3, 2], minval=-20, maxval=20, seed=42)\n",
    "x3 = tf.random.uniform([2, 3, 2], minval=-30, maxval=30, seed=42)\n",
    "\n",
    "print(x1)\n",
    "print(x2)\n",
    "print(x3)"
   ]
  },
  {
   "cell_type": "code",
   "execution_count": 104,
   "id": "9a1b9deb-1bf4-49b1-ad4f-73d8e35f931e",
   "metadata": {},
   "outputs": [
    {
     "name": "stdout",
     "output_type": "stream",
     "text": [
      "tf.Tensor(\n",
      "[[[-22.584843  39.16095 ]\n",
      "  [ 22.193468 -59.19491 ]\n",
      "  [ 34.49942  -13.121868]]\n",
      "\n",
      " [[-24.884335  59.06031 ]\n",
      "  [ 54.97251    6.747979]\n",
      "  [-40.240444 -43.865147]]], shape=(2, 3, 2), dtype=float32)\n"
     ]
    }
   ],
   "source": [
    "# Use tf.math.add_n to add more than 2 tensors\n",
    "x_add = tf.math.add_n([x1, x2, x3])\n",
    "print(x_add)"
   ]
  },
  {
   "cell_type": "markdown",
   "id": "06083eab-f0fe-48a0-9cf9-1c254addc6c0",
   "metadata": {},
   "source": [
    "### Broadcasting\n",
    "When trying to perform mathematical operations on two tensors where the shape of tensors are different, the tensor with lesser values along a dimension will be *expanded* to make the dimensions same"
   ]
  },
  {
   "cell_type": "code",
   "execution_count": 109,
   "id": "c27417f2-51d8-4e3b-8b08-e9a74f62b4da",
   "metadata": {},
   "outputs": [
    {
     "name": "stdout",
     "output_type": "stream",
     "text": [
      "tf.Tensor([[110 120 130 140 150]], shape=(1, 5), dtype=int32)\n",
      "tf.Tensor([[90 80 70 60 50]], shape=(1, 5), dtype=int32)\n",
      "tf.Tensor([[1000 2000 3000 4000 5000]], shape=(1, 5), dtype=int32)\n",
      "tf.Tensor([[0.1 0.2 0.3 0.4 0.5]], shape=(1, 5), dtype=float64)\n"
     ]
    }
   ],
   "source": [
    "x1 = tf.constant([[10, 20, 30, 40, 50]])\n",
    "x2 = tf.constant([100])\n",
    "\n",
    "# Element-wise addition with broadcasting\n",
    "x_add = tf.math.add(x1, x2)\n",
    "print(x_add)\n",
    "\n",
    "# Element-wise subtraction with broadcasting\n",
    "x_subtract = tf.math.subtract(x2, x1)\n",
    "print(x_subtract)\n",
    "\n",
    "# Element-wise multiplication with broadcasting\n",
    "x_multiply = tf.math.multiply(x1, x2)\n",
    "print(x_multiply)\n",
    "\n",
    "# Element-wise division with broadcasting\n",
    "x_divide = tf.math.divide(x1, x2)\n",
    "print(x_divide)"
   ]
  },
  {
   "cell_type": "code",
   "execution_count": 113,
   "id": "ada3c44e-8715-479e-afa4-311789e9a28f",
   "metadata": {},
   "outputs": [
    {
     "name": "stdout",
     "output_type": "stream",
     "text": [
      "tf.Tensor(\n",
      "[[[ 10  20]\n",
      "  [100 200]\n",
      "  [101 201]]\n",
      "\n",
      " [[ 13  26]\n",
      "  [121  11]\n",
      "  [  5   7]]], shape=(2, 3, 2), dtype=int32)\n"
     ]
    }
   ],
   "source": [
    "x1 = tf.constant([\n",
    "    [\n",
    "        [10, 20],\n",
    "        [100, 200],\n",
    "        [101, 201]\n",
    "    ],\n",
    "    [\n",
    "        [13, 26],\n",
    "        [121, 11],\n",
    "        [5, 7]\n",
    "    ]\n",
    "])\n",
    "print(x1)"
   ]
  },
  {
   "cell_type": "code",
   "execution_count": 114,
   "id": "60d6b7df-5cab-41b9-8304-4aee32e23cac",
   "metadata": {},
   "outputs": [
    {
     "name": "stdout",
     "output_type": "stream",
     "text": [
      "tf.Tensor([[1 1]], shape=(1, 2), dtype=int32)\n"
     ]
    }
   ],
   "source": [
    "x2 = tf.constant([\n",
    "    [1, 1]\n",
    "])\n",
    "print(x2)"
   ]
  },
  {
   "cell_type": "code",
   "execution_count": 115,
   "id": "22e90b61-c1c8-43e9-aea6-c11ee44d5268",
   "metadata": {},
   "outputs": [
    {
     "name": "stdout",
     "output_type": "stream",
     "text": [
      "tf.Tensor(\n",
      "[[[ 11  21]\n",
      "  [101 201]\n",
      "  [102 202]]\n",
      "\n",
      " [[ 14  27]\n",
      "  [122  12]\n",
      "  [  6   8]]], shape=(2, 3, 2), dtype=int32)\n"
     ]
    }
   ],
   "source": [
    "# Element-wise addition with broadcasting\n",
    "print(tf.math.add(x1, x2))"
   ]
  },
  {
   "cell_type": "code",
   "execution_count": 116,
   "id": "da4b5648-7e29-4947-af2c-3f43352f12f1",
   "metadata": {},
   "outputs": [
    {
     "name": "stdout",
     "output_type": "stream",
     "text": [
      "tf.Tensor(\n",
      "[[ 1  1  1  1]\n",
      " [-1 -1 -1 -1]], shape=(2, 4), dtype=int32)\n"
     ]
    }
   ],
   "source": [
    "x3 = tf.constant([\n",
    "    [1, 1, 1, 1],\n",
    "    [-1, -1, -1, -1]\n",
    "])\n",
    "print(x3)"
   ]
  },
  {
   "cell_type": "code",
   "execution_count": 119,
   "id": "5cc78a1d-43fe-4b17-b07a-2e71c2b0f488",
   "metadata": {},
   "outputs": [],
   "source": [
    "# Element-wise addition with broadcasting\n",
    "# print(tf.add(x1, x3)) # shapes different will lead to error"
   ]
  },
  {
   "cell_type": "code",
   "execution_count": 121,
   "id": "7ed2144d-f507-456a-a9a9-8a538b2ea54c",
   "metadata": {},
   "outputs": [
    {
     "name": "stdout",
     "output_type": "stream",
     "text": [
      "(1, 6)\n",
      "(3, 1)\n"
     ]
    }
   ],
   "source": [
    "x1 = tf.constant([[10, 20, 30, 40, 50, 60]])\n",
    "x2 = tf.constant([[1], [-1], [0]])\n",
    "\n",
    "print(x1.shape)\n",
    "print(x2.shape)"
   ]
  },
  {
   "cell_type": "code",
   "execution_count": 122,
   "id": "b0e123ac-06f0-4895-9522-3154e5d63803",
   "metadata": {},
   "outputs": [
    {
     "name": "stdout",
     "output_type": "stream",
     "text": [
      "tf.Tensor(\n",
      "[[ 10  20  30  40  50  60]\n",
      " [-10 -20 -30 -40 -50 -60]\n",
      " [  0   0   0   0   0   0]], shape=(3, 6), dtype=int32)\n"
     ]
    }
   ],
   "source": [
    "# Element-wise multiplication with broadcasting without shape match\n",
    "print(tf.math.multiply(x1, x2))"
   ]
  },
  {
   "cell_type": "code",
   "execution_count": 123,
   "id": "8c4b6c41-fe01-4cbe-b32e-47bb1bf20ba9",
   "metadata": {},
   "outputs": [
    {
     "name": "stdout",
     "output_type": "stream",
     "text": [
      "tf.Tensor(\n",
      "[[ 10  20  30  40  50  60]\n",
      " [-10 -20 -30 -40 -50 -60]\n",
      " [  0   0   0   0   0   0]], shape=(3, 6), dtype=int32)\n"
     ]
    }
   ],
   "source": [
    "# Element-wise multiplication with broadcasting without shape match\n",
    "print(tf.math.multiply(x2, x1))"
   ]
  },
  {
   "cell_type": "code",
   "execution_count": null,
   "id": "341c8879-4dd1-4127-b73f-18506f152289",
   "metadata": {},
   "outputs": [],
   "source": [
    "x1 = tf.constant([\n",
    "    [10, 20, 30],\n",
    "    [100, 200, 300],\n",
    "    [-10, -200, -101]\n",
    "])\n",
    "\n",
    "x2 = tf.constant([\n",
    "    [11, 22 ]\n",
    "])"
   ]
  }
 ],
 "metadata": {
  "kernelspec": {
   "display_name": "Python 3 (ipykernel)",
   "language": "python",
   "name": "python3"
  },
  "language_info": {
   "codemirror_mode": {
    "name": "ipython",
    "version": 3
   },
   "file_extension": ".py",
   "mimetype": "text/x-python",
   "name": "python",
   "nbconvert_exporter": "python",
   "pygments_lexer": "ipython3",
   "version": "3.10.8"
  }
 },
 "nbformat": 4,
 "nbformat_minor": 5
}
